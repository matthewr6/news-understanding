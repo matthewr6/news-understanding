{
 "cells": [
  {
   "cell_type": "code",
   "execution_count": null,
   "metadata": {},
   "outputs": [],
   "source": [
    "import sys\n",
    "from gensim.models.ldamodel import LdaModel\n",
    "import gensim.corpora\n",
    "import json\n",
    "import os\n",
    "from os.path import join, dirname, isfile\n",
    "\n",
    "num_topics = 3\n",
    "top_n_words = 10\n",
    "\n",
    "with open('featurizers/featurized_data/spacy_nouns.json') as f:\n",
    "    data = [\" \".join([w.lower() for w in line]) for line in json.load(f)]"
   ]
  },
  {
   "cell_type": "code",
   "execution_count": null,
   "metadata": {},
   "outputs": [],
   "source": [
    "from sklearn.feature_extraction.text import CountVectorizer\n",
    "from biterm.utility import vec_to_biterms\n",
    "import numpy as np\n",
    "\n",
    "#basically copy and paste this for input, minus the vocab creation\n",
    "texts = data\n",
    "vec = CountVectorizer(stop_words='english')\n",
    "X = vec.fit_transform(texts).toarray()\n",
    "vocab = np.array(vec.get_feature_names())\n",
    "biterms = vec_to_biterms(X)"
   ]
  },
  {
   "cell_type": "code",
   "execution_count": null,
   "metadata": {},
   "outputs": [],
   "source": [
    "from biterm.btm import oBTM\n",
    "\n",
    "#training\n",
    "btm = oBTM(num_topics, V=vocab)\n",
    "btm.fit(biterms, iterations=10)\n",
    "\n",
    "#predict\n",
    "topics = btm.transform(biterms)\n",
    "\n",
    "#topics \n",
    "#examples x value_for_each_topics[ topics.argmax() ]"
   ]
  },
  {
   "cell_type": "markdown",
   "metadata": {},
   "source": [
    "# Template for Model File"
   ]
  },
  {
   "cell_type": "code",
   "execution_count": null,
   "metadata": {},
   "outputs": [],
   "source": [
    "num_topics = 10\n",
    "top_n_words = 25\n",
    "\n",
    "with open('featurizers/featurized_data/spacy_nouns.json') as f:\n",
    "    data = [\" \".join([w.lower() for w in line]) for line in json.load(f)]\n",
    "\n",
    "vec = CountVectorizer(stop_words='english')\n",
    "X = vec.fit_transform(data).toarray()\n",
    "biterms = vec_to_biterms(X)\n",
    "\n",
    "# train model\n",
    "if __name__ == '__main__':\n",
    "    print(\"Creating model\")\n",
    "    # vectorize texts\n",
    "    vec = CountVectorizer(stop_words='english')\n",
    "    X = vec.fit_transform(data).toarray()\n",
    "    \n",
    "    # get vocabulary\n",
    "    vocab = np.array(vec.get_feature_names())\n",
    "    \n",
    "    # get biterms\n",
    "    biterms = vec_to_biterms(X)\n",
    "    \n",
    "    # create btm\n",
    "    btm = oBTM(num_topics=num_topics, V=vocab)\n",
    "\n",
    "    #save model to file\n",
    "    os.makedirs(join(base_path, f'models/{model_name}'), exist_ok=True)\n",
    "    pickle.dump(btm, open( f'models/{model_name}/model', 'wb'))\n",
    "    topics = btm.transform(biterms)\n",
    "    \n",
    "    #saving cluster\n",
    "    y = model.predict(vectorizer.transform([' '.join(d) for d in data]))\n",
    "    groupings = {}\n",
    "    for i in np.unique(y):\n",
    "        groupings[str(i)] = []\n",
    "    for idx, d in enumerate(data):\n",
    "        groupings[str(y[idx])].append(d)\n",
    "    with open(join(base_path, f'models/{model_name}/clusters.json'), 'w') as f:\n",
    "        json.dump(groupings, f, indent=4)\n",
    "\n",
    "btm = pickle.load(open( f'models/{model_name}/model', 'rb'))\n",
    "\n",
    "def predict(text):\n",
    "    # vectorize inputs\n",
    "    vec = CountVectorizer(stop_words='english')\n",
    "    X = vec.fit_transform(text).toarray()\n",
    "    biterms = vec_to_biterms(X)\n",
    "    \n",
    "    #predict topic\n",
    "    topics = btm.transform(biterms)\n",
    "    return topics.argmax()\n",
    "\n",
    "topics = get_topics()"
   ]
  }
 ],
 "metadata": {
  "kernelspec": {
   "display_name": "Python 3",
   "language": "python",
   "name": "python3"
  },
  "language_info": {
   "codemirror_mode": {
    "name": "ipython",
    "version": 3
   },
   "file_extension": ".py",
   "mimetype": "text/x-python",
   "name": "python",
   "nbconvert_exporter": "python",
   "pygments_lexer": "ipython3",
   "version": "3.6.8"
  }
 },
 "nbformat": 4,
 "nbformat_minor": 2
}
