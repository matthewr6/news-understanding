{
 "cells": [
  {
   "cell_type": "code",
   "execution_count": null,
   "metadata": {},
   "outputs": [],
   "source": [
    "import sys\n",
    "from gensim.models.ldamodel import LdaModel\n",
    "import gensim.corpora\n",
    "import json\n",
    "import os\n",
    "from os.path import join, dirname, isfile\n",
    "\n",
    "num_topics = 3\n",
    "top_n_words = 10\n",
    "\n",
    "with open('featurizers/featurized_data/spacy_nouns.json') as f:\n",
    "    data = [\" \".join([w.lower() for w in line]) for line in json.load(f)]"
   ]
  },
  {
   "cell_type": "code",
   "execution_count": null,
   "metadata": {},
   "outputs": [],
   "source": [
    "from sklearn.feature_extraction.text import CountVectorizer\n",
    "\n",
    "texts = data\n",
    "vec = CountVectorizer(stop_words='english')\n",
    "X = vec.fit_transform(texts).toarray()"
   ]
  },
  {
   "cell_type": "code",
   "execution_count": null,
   "metadata": {},
   "outputs": [],
   "source": [
    "from biterm.utility import vec_to_biterms\n",
    "import numpy as np\n",
    "\n",
    "vocab = np.array(vec.get_feature_names())\n",
    "biterms = vec_to_biterms(X)"
   ]
  },
  {
   "cell_type": "code",
   "execution_count": null,
   "metadata": {},
   "outputs": [],
   "source": [
    "from biterm.cbtm import oBTM\n",
    "\n",
    "btm = oBTM(num_topics, V=vocab)\n",
    "topics = btm.fit_transform(biterms, iterations=10)"
   ]
  },
  {
   "cell_type": "markdown",
   "metadata": {},
   "source": [
    "# Template for Model File"
   ]
  },
  {
   "cell_type": "code",
   "execution_count": null,
   "metadata": {},
   "outputs": [],
   "source": [
    "num_topics = 10\n",
    "top_n_words = 25\n",
    "\n",
    "with open('featurizers/featurized_data/spacy_nouns.json') as f:\n",
    "    data = [\" \".join([w.lower() for w in line]) for line in json.load(f)]\n",
    "\n",
    "# vectorize texts\n",
    "vec = CountVectorizer(stop_words='english')\n",
    "X = vec.fit_transform(data).toarray()\n",
    "\n",
    "# get vocabulary\n",
    "vocab = np.array(vec.get_feature_names())\n",
    "\n",
    "# get biterms\n",
    "biterms = vec_to_biterms(X)\n",
    "\n",
    "# create btm\n",
    "btm = oBTM(num_topics=20, V=vocab)\n",
    "\n",
    "# train model\n",
    "print(\"\\n\\n Train Online BTM ..\")\n",
    "for i in range(0, len(biterms), 100): # prozess chunk of 200 texts\n",
    "    biterms_chunk = biterms[i:i + 100]\n",
    "    btm.fit(biterms_chunk, iterations=50)\n",
    "topics = btm.transform(biterms)\n",
    "\n",
    "# predict\n",
    "def get_topics():\n",
    "    BTM_topic_words = []\n",
    "    for i in range(num_topics):\n",
    "        BTM_topic_words += [w for w in topics(i, topn=top_n_words)]\n",
    "    return set(BTM_topic_words)\n",
    "\n",
    "topics = get_topics()"
   ]
  }
 ],
 "metadata": {
  "kernelspec": {
   "display_name": "Python 3",
   "language": "python",
   "name": "python3"
  },
  "language_info": {
   "codemirror_mode": {
    "name": "ipython",
    "version": 3
   },
   "file_extension": ".py",
   "mimetype": "text/x-python",
   "name": "python",
   "nbconvert_exporter": "python",
   "pygments_lexer": "ipython3",
   "version": "3.6.8"
  }
 },
 "nbformat": 4,
 "nbformat_minor": 2
}
